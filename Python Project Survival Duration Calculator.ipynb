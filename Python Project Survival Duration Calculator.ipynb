{
 "cells": [
  {
   "cell_type": "markdown",
   "id": "118f97c3-dda4-496c-a75d-0bf8128b7ae4",
   "metadata": {},
   "source": [
    "#Age Calculator"
   ]
  },
  {
   "cell_type": "code",
   "execution_count": 1,
   "id": "82c7c975-b3e2-4ce5-a3a8-75fdb5d57d6f",
   "metadata": {},
   "outputs": [
    {
     "name": "stdin",
     "output_type": "stream",
     "text": [
      "What's your age in Years? 24\n"
     ]
    }
   ],
   "source": [
    "age=int(input(\"What's your age in Years?\"))"
   ]
  },
  {
   "cell_type": "code",
   "execution_count": 2,
   "id": "d47c6c5f-5812-4e57-ae91-f66c3e2465d5",
   "metadata": {},
   "outputs": [],
   "source": [
    "def Days(age):\n",
    "    #Taken leap years into consideration\n",
    "    leap_years=age/4\n",
    "    dAge=(365*age)+leap_years\n",
    "    return int(dAge)\n",
    "def Weeks(age):\n",
    "    wAge=Days(age)/7\n",
    "    print(\"You lived for\",int(wAge),\"Weeks\")\n",
    "def Months(age):\n",
    "    mAge=age*12\n",
    "    print(\"You lived for\",int(mAge),\"Months\")\n",
    "def Hours(age):\n",
    "    hAge=Days(age)*24\n",
    "    print(\"You lived for\",int(hAge),\"Hours\")\n",
    "def Minutes(age):\n",
    "    mAge=Days(age)*24*60\n",
    "    print(\"You lived for\",int(mAge),\"Minutes\")    \n",
    "def Seconds(age):\n",
    "    sAge=Days(age)*24*60*60\n",
    "    print(\"You lived for\",int(sAge),\"Seconds\")"
   ]
  },
  {
   "cell_type": "code",
   "execution_count": 3,
   "id": "8870b7b8-181e-42b2-a446-b6c049734a59",
   "metadata": {},
   "outputs": [],
   "source": [
    "def AgeCal(age):\n",
    "    tUnit=input(\"Please choose time unit from the given: \\n1. Months(M) \\n2. Weeks(W) \\n3. Days(D) \\n4. Hours(H) \\n5. Minutes(m) \\n6. Seconds(S).\\nNote: You can write the first letter or the full name of the time unit.\")\n",
    "    match tUnit:\n",
    "        case \"M\" | \"Months\" | \"months\":\n",
    "            Months(age)\n",
    "        case \"W\" | \"Weeks\" | \"weeks\":\n",
    "            Weeks(age)\n",
    "        case \"D\" | \"Days\" | \"days\":\n",
    "            print(\"You have lived for\",Days(age),\"Days\")\n",
    "        case \"H\" | \"Hours\" | \"hours\":\n",
    "            Hours(age)\n",
    "        case \"m\" | \"Minutes\" | \"minutes\":\n",
    "            Minutes(age)\n",
    "        case \"S\" | \"Seconds\" | \"seconds\":\n",
    "            Seconds(age)\n",
    "        case _:\n",
    "            print(\"\\nInvalid Input!\")\n",
    "            AgeCal(age)"
   ]
  },
  {
   "cell_type": "code",
   "execution_count": 4,
   "id": "c81d07a4-d937-4d6f-88dc-7704d73ae39f",
   "metadata": {},
   "outputs": [
    {
     "name": "stdin",
     "output_type": "stream",
     "text": [
      "Please choose time unit from the given: \n",
      "1. Months(M) \n",
      "2. Weeks(W) \n",
      "3. Days(D) \n",
      "4. Hours(H) \n",
      "5. Minutes(m) \n",
      "6. Seconds(S).\n",
      "Note: You can write the first letter or the full name of the time unit. Months\n"
     ]
    },
    {
     "name": "stdout",
     "output_type": "stream",
     "text": [
      "You lived for 288 Months\n"
     ]
    }
   ],
   "source": [
    "AgeCal(age)"
   ]
  },
  {
   "cell_type": "code",
   "execution_count": 5,
   "id": "69c24f61-46aa-4707-8632-a9af0c9737ce",
   "metadata": {},
   "outputs": [
    {
     "name": "stdin",
     "output_type": "stream",
     "text": [
      "Please choose time unit from the given: \n",
      "1. Months(M) \n",
      "2. Weeks(W) \n",
      "3. Days(D) \n",
      "4. Hours(H) \n",
      "5. Minutes(m) \n",
      "6. Seconds(S).\n",
      "Note: You can write the first letter or the full name of the time unit. Weeks\n"
     ]
    },
    {
     "name": "stdout",
     "output_type": "stream",
     "text": [
      "You lived for 1252 Weeks\n"
     ]
    }
   ],
   "source": [
    "AgeCal(age)"
   ]
  },
  {
   "cell_type": "code",
   "execution_count": 6,
   "id": "9f00ade3-19bf-461a-8b9d-a8ab01bb2a6d",
   "metadata": {},
   "outputs": [
    {
     "name": "stdin",
     "output_type": "stream",
     "text": [
      "Please choose time unit from the given: \n",
      "1. Months(M) \n",
      "2. Weeks(W) \n",
      "3. Days(D) \n",
      "4. Hours(H) \n",
      "5. Minutes(m) \n",
      "6. Seconds(S).\n",
      "Note: You can write the first letter or the full name of the time unit. Days\n"
     ]
    },
    {
     "name": "stdout",
     "output_type": "stream",
     "text": [
      "You have lived for 8766 Days\n"
     ]
    }
   ],
   "source": [
    "AgeCal(age)"
   ]
  },
  {
   "cell_type": "code",
   "execution_count": 7,
   "id": "a88e4901-c2c0-477f-871d-6d34c61e13a6",
   "metadata": {},
   "outputs": [
    {
     "name": "stdin",
     "output_type": "stream",
     "text": [
      "Please choose time unit from the given: \n",
      "1. Months(M) \n",
      "2. Weeks(W) \n",
      "3. Days(D) \n",
      "4. Hours(H) \n",
      "5. Minutes(m) \n",
      "6. Seconds(S).\n",
      "Note: You can write the first letter or the full name of the time unit. Hours\n"
     ]
    },
    {
     "name": "stdout",
     "output_type": "stream",
     "text": [
      "You lived for 210384 Hours\n"
     ]
    }
   ],
   "source": [
    "AgeCal(age)"
   ]
  },
  {
   "cell_type": "code",
   "execution_count": 8,
   "id": "e2705e07-7b99-4016-b80e-a7774bbb47fb",
   "metadata": {},
   "outputs": [
    {
     "name": "stdin",
     "output_type": "stream",
     "text": [
      "Please choose time unit from the given: \n",
      "1. Months(M) \n",
      "2. Weeks(W) \n",
      "3. Days(D) \n",
      "4. Hours(H) \n",
      "5. Minutes(m) \n",
      "6. Seconds(S).\n",
      "Note: You can write the first letter or the full name of the time unit. Minutes\n"
     ]
    },
    {
     "name": "stdout",
     "output_type": "stream",
     "text": [
      "You lived for 12623040 Minutes\n"
     ]
    }
   ],
   "source": [
    "AgeCal(age)"
   ]
  },
  {
   "cell_type": "code",
   "execution_count": 9,
   "id": "8c43fc67-21d2-4194-a413-1a34fc95bb4c",
   "metadata": {},
   "outputs": [
    {
     "name": "stdin",
     "output_type": "stream",
     "text": [
      "Please choose time unit from the given: \n",
      "1. Months(M) \n",
      "2. Weeks(W) \n",
      "3. Days(D) \n",
      "4. Hours(H) \n",
      "5. Minutes(m) \n",
      "6. Seconds(S).\n",
      "Note: You can write the first letter or the full name of the time unit. Seconds\n"
     ]
    },
    {
     "name": "stdout",
     "output_type": "stream",
     "text": [
      "You lived for 757382400 Seconds\n"
     ]
    }
   ],
   "source": [
    "AgeCal(age)"
   ]
  }
 ],
 "metadata": {
  "kernelspec": {
   "display_name": "Python 3 (ipykernel)",
   "language": "python",
   "name": "python3"
  },
  "language_info": {
   "codemirror_mode": {
    "name": "ipython",
    "version": 3
   },
   "file_extension": ".py",
   "mimetype": "text/x-python",
   "name": "python",
   "nbconvert_exporter": "python",
   "pygments_lexer": "ipython3",
   "version": "3.12.4"
  }
 },
 "nbformat": 4,
 "nbformat_minor": 5
}
